{
  "cells": [
    {
      "cell_type": "markdown",
      "metadata": {
        "id": "view-in-github",
        "colab_type": "text"
      },
      "source": [
        "<a href=\"https://colab.research.google.com/github/pys07/urban_greenspaces/blob/main/ca_lstm_DI.ipynb\" target=\"_parent\"><img src=\"https://colab.research.google.com/assets/colab-badge.svg\" alt=\"Open In Colab\"/></a>"
      ]
    },
    {
      "cell_type": "code",
      "execution_count": null,
      "metadata": {
        "id": "jFMNZ-TvYgtF",
        "colab": {
          "base_uri": "https://localhost:8080/"
        },
        "outputId": "f0a0e907-2e99-456b-dcb9-e8c42589981f"
      },
      "outputs": [
        {
          "output_type": "stream",
          "name": "stdout",
          "text": [
            "Mounted at /content/drive\n"
          ]
        }
      ],
      "source": [
        "+# Main code\n",
        "import numpy as np\n",
        "import tensorflow as tf\n",
        "from tensorflow.keras.models import Sequential\n",
        "from tensorflow.keras.layers import LSTM, Dense\n",
        "import matplotlib.pyplot as plt\n",
        "from PIL import Image\n",
        "from google.colab import drive\n",
        "drive.mount(\"/content/drive\")"
      ]
    },
    {
      "cell_type": "code",
      "execution_count": null,
      "metadata": {
        "id": "3z3KD81RVZdE"
      },
      "outputs": [],
      "source": [
        "# load the image\n",
        "image1 = Image.open(r\"/content/drive/MyDrive/2024_Work/1993-23_DI_Classify_final/1993_classify_final.bmp\")\n",
        "image2 = Image.open(r\"/content/drive/MyDrive/2024_Work/1993-23_DI_Classify_final/2003__DI_classify_final.bmp\")\n",
        "image3 = Image.open(r\"/content/drive/MyDrive/2024_Work/1993-23_DI_Classify_final/2013_DI_Classify_final.bmp\")\n",
        "image4 = Image.open(r\"/content/drive/MyDrive/2024_Work/1993-23_DI_Classify_final/2023_DI_Classify_Final.bmp\")\n",
        "\n",
        "# Convert images to arrays and normalize\n",
        "image1 = np.array(image1)\n",
        "image2 = np.array(image2)\n",
        "image3 = np.array(image3)\n",
        "image4 = np.array(image4)"
      ]
    },
    {
      "cell_type": "code",
      "execution_count": null,
      "metadata": {
        "colab": {
          "base_uri": "https://localhost:8080/"
        },
        "id": "He1wgbSqQY0i",
        "outputId": "626a8fb3-715f-4f9f-985e-3a60707b12f7"
      },
      "outputs": [
        {
          "output_type": "execute_result",
          "data": {
            "text/plain": [
              "(2073, 1821, 3)"
            ]
          },
          "metadata": {},
          "execution_count": 3
        }
      ],
      "source": [
        "image1.shape\n",
        "image4.shape"
      ]
    },
    {
      "cell_type": "code",
      "source": [
        "print(image4)"
      ],
      "metadata": {
        "colab": {
          "base_uri": "https://localhost:8080/"
        },
        "id": "opqaRJ4DcQ5B",
        "outputId": "3c2c3294-9b63-4c93-911f-6ecc242fe5c4"
      },
      "execution_count": null,
      "outputs": [
        {
          "output_type": "stream",
          "name": "stdout",
          "text": [
            "[[[255 255 255]\n",
            "  [255 255 255]\n",
            "  [255 255 255]\n",
            "  ...\n",
            "  [255 255 255]\n",
            "  [255 255 255]\n",
            "  [255 255 255]]\n",
            "\n",
            " [[255 255 255]\n",
            "  [255 255 255]\n",
            "  [255 255 255]\n",
            "  ...\n",
            "  [255 255 255]\n",
            "  [255 255 255]\n",
            "  [255 255 255]]\n",
            "\n",
            " [[255 255 255]\n",
            "  [255 255 255]\n",
            "  [255 255 255]\n",
            "  ...\n",
            "  [255 255 255]\n",
            "  [255 255 255]\n",
            "  [255 255 255]]\n",
            "\n",
            " ...\n",
            "\n",
            " [[255 255 255]\n",
            "  [255 255 255]\n",
            "  [255 255 255]\n",
            "  ...\n",
            "  [255 255 255]\n",
            "  [255 255 255]\n",
            "  [255 255 255]]\n",
            "\n",
            " [[255 255 255]\n",
            "  [255 255 255]\n",
            "  [255 255 255]\n",
            "  ...\n",
            "  [255 255 255]\n",
            "  [255 255 255]\n",
            "  [255 255 255]]\n",
            "\n",
            " [[255 255 255]\n",
            "  [255 255 255]\n",
            "  [255 255 255]\n",
            "  ...\n",
            "  [255 255 255]\n",
            "  [255 255 255]\n",
            "  [255 255 255]]]\n"
          ]
        }
      ]
    },
    {
      "cell_type": "code",
      "execution_count": null,
      "metadata": {
        "colab": {
          "base_uri": "https://localhost:8080/"
        },
        "id": "et_H9Y7bVZdF",
        "outputId": "ec1f25a3-5cfa-4c0d-8ae3-ad5ea97e510d"
      },
      "outputs": [
        {
          "output_type": "stream",
          "name": "stdout",
          "text": [
            "1\n",
            "1\n",
            "1\n"
          ]
        }
      ],
      "source": [
        "import numpy as np\n",
        "\n",
        "def cellular_automata(image, num_iterations):\n",
        "    \"\"\"Implementation of a cellular automaton for 2D colored images with a rule based on the most occurred neighbor.\"\"\"\n",
        "\n",
        "    # Define the neighborhood and update rules\n",
        "    def get_neighbors(img, row, col):\n",
        "        \"\"\"Get the 3x3 neighborhood around a point.\"\"\"\n",
        "        h, w, _ = img.shape\n",
        "        _ = 3\n",
        "        left, right = max(col - 1, 0), min(col + 2, w)\n",
        "        top, bottom = max(row - 1, 0), min(row + 2, h)\n",
        "        return img[top:bottom, left:right]\n",
        "\n",
        "    def update_state(img, row, col):\n",
        "        \"\"\"Update the state at position (row, col) based on its neighbors.\"\"\"\n",
        "        neighbors = get_neighbors(img, row, col)\n",
        "        counts = np.bincount(neighbors.flatten(), minlength=6)\n",
        "        max_color = np.argmax(counts)\n",
        "        return max_color\n",
        "\n",
        "    # Apply the cellular automaton rule to each color channel independently\n",
        "    updated_image = np.copy(image)\n",
        "    for _ in range(num_iterations):\n",
        "        new_image = np.empty_like(updated_image)\n",
        "        for row in range(updated_image.shape[0]):\n",
        "            for col in range(updated_image.shape[1]):\n",
        "                new_pixel = update_state(updated_image, row, col)\n",
        "                new_image[row, col] = new_pixel\n",
        "        updated_image = new_image\n",
        "\n",
        "    return updated_image\n",
        "\n",
        "# Apply cellular automata to the images\n",
        "cellular_iterations = 10  # Number of iterations for the cellular automata\n",
        "cellular_image1 = cellular_automata(image1, cellular_iterations)\n",
        "print(1)\n",
        "cellular_image2 = cellular_automata(image2, cellular_iterations)\n",
        "print(1)\n",
        "cellular_image3 = cellular_automata(image3, cellular_iterations)\n",
        "print(1)\n",
        "cellular_image4 = cellular_automata(image4, cellular_iterations)"
      ]
    },
    {
      "cell_type": "code",
      "source": [
        "print(cellular_image1)"
      ],
      "metadata": {
        "colab": {
          "base_uri": "https://localhost:8080/"
        },
        "id": "J6GTJxJGdEMd",
        "outputId": "0fa17ad9-7a59-4cdb-dfcf-f3b630195118"
      },
      "execution_count": null,
      "outputs": [
        {
          "output_type": "stream",
          "name": "stdout",
          "text": [
            "[[[255 255 255]\n",
            "  [255 255 255]\n",
            "  [255 255 255]\n",
            "  ...\n",
            "  [255 255 255]\n",
            "  [255 255 255]\n",
            "  [255 255 255]]\n",
            "\n",
            " [[255 255 255]\n",
            "  [255 255 255]\n",
            "  [255 255 255]\n",
            "  ...\n",
            "  [255 255 255]\n",
            "  [255 255 255]\n",
            "  [255 255 255]]\n",
            "\n",
            " [[255 255 255]\n",
            "  [255 255 255]\n",
            "  [255 255 255]\n",
            "  ...\n",
            "  [255 255 255]\n",
            "  [255 255 255]\n",
            "  [255 255 255]]\n",
            "\n",
            " ...\n",
            "\n",
            " [[255 255 255]\n",
            "  [255 255 255]\n",
            "  [255 255 255]\n",
            "  ...\n",
            "  [255 255 255]\n",
            "  [255 255 255]\n",
            "  [255 255 255]]\n",
            "\n",
            " [[255 255 255]\n",
            "  [255 255 255]\n",
            "  [255 255 255]\n",
            "  ...\n",
            "  [255 255 255]\n",
            "  [255 255 255]\n",
            "  [255 255 255]]\n",
            "\n",
            " [[255 255 255]\n",
            "  [255 255 255]\n",
            "  [255 255 255]\n",
            "  ...\n",
            "  [255 255 255]\n",
            "  [255 255 255]\n",
            "  [255 255 255]]]\n"
          ]
        }
      ]
    },
    {
      "cell_type": "code",
      "execution_count": null,
      "metadata": {
        "id": "Y0evgbEKVZdG"
      },
      "outputs": [],
      "source": [
        "cellular_image1 = np.array(image1).astype(np.float32) / 255\n",
        "cellular_image2 = np.array(image2).astype(np.float32) / 255\n",
        "cellular_image3 = np.array(image3).astype(np.float32) / 255\n",
        "cellular_image4 = np.array(image4).astype(np.float32) / 255"
      ]
    },
    {
      "cell_type": "code",
      "execution_count": null,
      "metadata": {
        "colab": {
          "base_uri": "https://localhost:8080/"
        },
        "id": "pRHVfY1LVZdG",
        "outputId": "72981874-9687-4f07-a309-cf873aa6534e"
      },
      "outputs": [
        {
          "output_type": "execute_result",
          "data": {
            "text/plain": [
              "(2073, 1821, 3)"
            ]
          },
          "metadata": {},
          "execution_count": 10
        }
      ],
      "source": [
        "cellular_image1.shape"
      ]
    },
    {
      "cell_type": "code",
      "execution_count": null,
      "metadata": {
        "colab": {
          "base_uri": "https://localhost:8080/"
        },
        "id": "mtKn4xa2VZdG",
        "outputId": "4d42f5ea-e267-4733-ac50-633acd49042a"
      },
      "outputs": [
        {
          "output_type": "execute_result",
          "data": {
            "text/plain": [
              "15099732"
            ]
          },
          "metadata": {},
          "execution_count": 11
        }
      ],
      "source": [
        "pixel_combined = []\n",
        "\n",
        "for y in range(cellular_image1.shape[0]):\n",
        "    for x in range(cellular_image1.shape[1]):\n",
        "\n",
        "        pixel_image1 = cellular_image1[y,x]\n",
        "        pixel_image2 = cellular_image2[y,x]\n",
        "        pixel_image3 = cellular_image3[y,x]\n",
        "        pixel_image4 = cellular_image4[y,x]\n",
        "\n",
        "        # pixel_combined.extend([pixel_image1, pixel_image2, pixel_image3])\n",
        "        pixel_combined.extend([pixel_image1, pixel_image2, pixel_image3, pixel_image4])\n",
        "\n",
        "pixel_combined = np.array(pixel_combined)\n",
        "\n",
        "len(pixel_combined)"
      ]
    },
    {
      "cell_type": "code",
      "source": [
        "print(pixel_combined)"
      ],
      "metadata": {
        "colab": {
          "base_uri": "https://localhost:8080/"
        },
        "id": "rdqxElGGjmYh",
        "outputId": "8c38fd66-66bd-42a2-fbe9-7c832851bbed"
      },
      "execution_count": null,
      "outputs": [
        {
          "output_type": "stream",
          "name": "stdout",
          "text": [
            "[[1. 1. 1.]\n",
            " [1. 1. 1.]\n",
            " [1. 1. 1.]\n",
            " ...\n",
            " [1. 1. 1.]\n",
            " [1. 1. 1.]\n",
            " [1. 1. 1.]]\n"
          ]
        }
      ]
    },
    {
      "cell_type": "code",
      "execution_count": null,
      "metadata": {
        "id": "PZbE5gHyVZdG"
      },
      "outputs": [],
      "source": [
        "l = len(pixel_combined)\n",
        "train = pixel_combined[:int(l*0.8)]\n",
        "test = pixel_combined[int(l*0.8):]"
      ]
    },
    {
      "cell_type": "code",
      "execution_count": null,
      "metadata": {
        "colab": {
          "base_uri": "https://localhost:8080/"
        },
        "id": "HaSEPG0pVZdG",
        "outputId": "f0dac9c0-0e5a-4350-f0de-717f8d7cd671"
      },
      "outputs": [
        {
          "output_type": "execute_result",
          "data": {
            "text/plain": [
              "3019946"
            ]
          },
          "metadata": {},
          "execution_count": 14
        }
      ],
      "source": [
        "# Reshape the pixel_values_array into a rolling window with a stride of 3\n",
        "window_size = 3  # Number of input elements\n",
        "stride = 4  # Stride between windows\n",
        "output_size = 1  # Number of output elements\n",
        "\n",
        "# Calculate the number of windows\n",
        "num_windows = (train.shape[0] - window_size) // stride + 1\n",
        "num_windows"
      ]
    },
    {
      "cell_type": "code",
      "execution_count": null,
      "metadata": {
        "id": "jJ5-ZLAIVZdG"
      },
      "outputs": [],
      "source": [
        "# Create an empty array to store the windows\n",
        "features = []\n",
        "labels = []\n",
        "\n",
        "\n",
        "for i in range(num_windows):\n",
        "    start = i * stride\n",
        "    end = start + window_size\n",
        "    feature = train[start:end]\n",
        "    features.append(feature)\n",
        "    label = train[end]\n",
        "    labels.append(label)\n",
        "\n",
        "\n",
        "    #if end < train.shape[0]:\n",
        "     #   feature = train[start:end]\n",
        "      #  label = train[end]\n",
        "       # features.append(feature)\n",
        "        #labels.append(label)\n",
        "    #else:\n",
        "    #    break\n",
        "\n",
        "features = np.array(features)\n",
        "labels = np.array(labels)"
      ]
    },
    {
      "cell_type": "code",
      "execution_count": null,
      "metadata": {
        "colab": {
          "base_uri": "https://localhost:8080/"
        },
        "id": "EF42PzrJVZdG",
        "outputId": "d28fbfcc-d37e-4160-85a8-f14fe15383b4"
      },
      "outputs": [
        {
          "output_type": "execute_result",
          "data": {
            "text/plain": [
              "(3019946, 3, 3)"
            ]
          },
          "metadata": {},
          "execution_count": 16
        }
      ],
      "source": [
        "features.shape"
      ]
    },
    {
      "cell_type": "code",
      "execution_count": null,
      "metadata": {
        "colab": {
          "base_uri": "https://localhost:8080/"
        },
        "id": "d507fjMAVZdH",
        "outputId": "9d7831ba-1a35-4534-c999-40fb040f6c39"
      },
      "outputs": [
        {
          "output_type": "execute_result",
          "data": {
            "text/plain": [
              "(3019946, 3)"
            ]
          },
          "metadata": {},
          "execution_count": 17
        }
      ],
      "source": [
        "labels.shape"
      ]
    },
    {
      "cell_type": "code",
      "execution_count": null,
      "metadata": {
        "colab": {
          "base_uri": "https://localhost:8080/"
        },
        "id": "DMtWqnFOVZdH",
        "outputId": "e6f669ef-de7a-46ef-dcc1-6b7a7d4a287f"
      },
      "outputs": [
        {
          "output_type": "stream",
          "name": "stderr",
          "text": [
            "/usr/local/lib/python3.10/dist-packages/keras/src/layers/rnn/rnn.py:204: UserWarning: Do not pass an `input_shape`/`input_dim` argument to a layer. When using Sequential models, prefer using an `Input(shape)` object as the first layer in the model instead.\n",
            "  super().__init__(**kwargs)\n"
          ]
        },
        {
          "output_type": "stream",
          "name": "stdout",
          "text": [
            "\u001b[1m94374/94374\u001b[0m \u001b[32m━━━━━━━━━━━━━━━━━━━━\u001b[0m\u001b[37m\u001b[0m \u001b[1m1038s\u001b[0m 11ms/step - accuracy: 0.3799 - loss: 0.0016\n"
          ]
        },
        {
          "output_type": "execute_result",
          "data": {
            "text/plain": [
              "<keras.src.callbacks.history.History at 0x7bdeef878160>"
            ]
          },
          "metadata": {},
          "execution_count": 18
        }
      ],
      "source": [
        "model = tf.keras.Sequential([\n",
        "    tf.keras.layers.LSTM(256, input_shape=(window_size, 3), return_sequences=False),\n",
        "    tf.keras.layers.Dense(3)\n",
        "])\n",
        "\n",
        "model.compile(optimizer='adam', loss='mse', metrics=['accuracy'])\n",
        "\n",
        "# Train the LSTM model\n",
        "model.fit(x=features, y=labels, epochs=1)"
      ]
    },
    {
      "cell_type": "code",
      "source": [
        "model.summary()"
      ],
      "metadata": {
        "colab": {
          "base_uri": "https://localhost:8080/",
          "height": 209
        },
        "id": "DnVCOBbuksNI",
        "outputId": "486baa2e-a86d-4e87-da68-bcd424362549"
      },
      "execution_count": null,
      "outputs": [
        {
          "output_type": "display_data",
          "data": {
            "text/plain": [
              "\u001b[1mModel: \"sequential\"\u001b[0m\n"
            ],
            "text/html": [
              "<pre style=\"white-space:pre;overflow-x:auto;line-height:normal;font-family:Menlo,'DejaVu Sans Mono',consolas,'Courier New',monospace\"><span style=\"font-weight: bold\">Model: \"sequential\"</span>\n",
              "</pre>\n"
            ]
          },
          "metadata": {}
        },
        {
          "output_type": "display_data",
          "data": {
            "text/plain": [
              "┏━━━━━━━━━━━━━━━━━━━━━━━━━━━━━━━━━━━━━━┳━━━━━━━━━━━━━━━━━━━━━━━━━━━━━┳━━━━━━━━━━━━━━━━━┓\n",
              "┃\u001b[1m \u001b[0m\u001b[1mLayer (type)                        \u001b[0m\u001b[1m \u001b[0m┃\u001b[1m \u001b[0m\u001b[1mOutput Shape               \u001b[0m\u001b[1m \u001b[0m┃\u001b[1m \u001b[0m\u001b[1m        Param #\u001b[0m\u001b[1m \u001b[0m┃\n",
              "┡━━━━━━━━━━━━━━━━━━━━━━━━━━━━━━━━━━━━━━╇━━━━━━━━━━━━━━━━━━━━━━━━━━━━━╇━━━━━━━━━━━━━━━━━┩\n",
              "│ lstm (\u001b[38;5;33mLSTM\u001b[0m)                          │ (\u001b[38;5;45mNone\u001b[0m, \u001b[38;5;34m256\u001b[0m)                 │         \u001b[38;5;34m266,240\u001b[0m │\n",
              "├──────────────────────────────────────┼─────────────────────────────┼─────────────────┤\n",
              "│ dense (\u001b[38;5;33mDense\u001b[0m)                        │ (\u001b[38;5;45mNone\u001b[0m, \u001b[38;5;34m3\u001b[0m)                   │             \u001b[38;5;34m771\u001b[0m │\n",
              "└──────────────────────────────────────┴─────────────────────────────┴─────────────────┘\n"
            ],
            "text/html": [
              "<pre style=\"white-space:pre;overflow-x:auto;line-height:normal;font-family:Menlo,'DejaVu Sans Mono',consolas,'Courier New',monospace\">┏━━━━━━━━━━━━━━━━━━━━━━━━━━━━━━━━━━━━━━┳━━━━━━━━━━━━━━━━━━━━━━━━━━━━━┳━━━━━━━━━━━━━━━━━┓\n",
              "┃<span style=\"font-weight: bold\"> Layer (type)                         </span>┃<span style=\"font-weight: bold\"> Output Shape                </span>┃<span style=\"font-weight: bold\">         Param # </span>┃\n",
              "┡━━━━━━━━━━━━━━━━━━━━━━━━━━━━━━━━━━━━━━╇━━━━━━━━━━━━━━━━━━━━━━━━━━━━━╇━━━━━━━━━━━━━━━━━┩\n",
              "│ lstm (<span style=\"color: #0087ff; text-decoration-color: #0087ff\">LSTM</span>)                          │ (<span style=\"color: #00d7ff; text-decoration-color: #00d7ff\">None</span>, <span style=\"color: #00af00; text-decoration-color: #00af00\">256</span>)                 │         <span style=\"color: #00af00; text-decoration-color: #00af00\">266,240</span> │\n",
              "├──────────────────────────────────────┼─────────────────────────────┼─────────────────┤\n",
              "│ dense (<span style=\"color: #0087ff; text-decoration-color: #0087ff\">Dense</span>)                        │ (<span style=\"color: #00d7ff; text-decoration-color: #00d7ff\">None</span>, <span style=\"color: #00af00; text-decoration-color: #00af00\">3</span>)                   │             <span style=\"color: #00af00; text-decoration-color: #00af00\">771</span> │\n",
              "└──────────────────────────────────────┴─────────────────────────────┴─────────────────┘\n",
              "</pre>\n"
            ]
          },
          "metadata": {}
        },
        {
          "output_type": "display_data",
          "data": {
            "text/plain": [
              "\u001b[1m Total params: \u001b[0m\u001b[38;5;34m801,035\u001b[0m (3.06 MB)\n"
            ],
            "text/html": [
              "<pre style=\"white-space:pre;overflow-x:auto;line-height:normal;font-family:Menlo,'DejaVu Sans Mono',consolas,'Courier New',monospace\"><span style=\"font-weight: bold\"> Total params: </span><span style=\"color: #00af00; text-decoration-color: #00af00\">801,035</span> (3.06 MB)\n",
              "</pre>\n"
            ]
          },
          "metadata": {}
        },
        {
          "output_type": "display_data",
          "data": {
            "text/plain": [
              "\u001b[1m Trainable params: \u001b[0m\u001b[38;5;34m267,011\u001b[0m (1.02 MB)\n"
            ],
            "text/html": [
              "<pre style=\"white-space:pre;overflow-x:auto;line-height:normal;font-family:Menlo,'DejaVu Sans Mono',consolas,'Courier New',monospace\"><span style=\"font-weight: bold\"> Trainable params: </span><span style=\"color: #00af00; text-decoration-color: #00af00\">267,011</span> (1.02 MB)\n",
              "</pre>\n"
            ]
          },
          "metadata": {}
        },
        {
          "output_type": "display_data",
          "data": {
            "text/plain": [
              "\u001b[1m Non-trainable params: \u001b[0m\u001b[38;5;34m0\u001b[0m (0.00 B)\n"
            ],
            "text/html": [
              "<pre style=\"white-space:pre;overflow-x:auto;line-height:normal;font-family:Menlo,'DejaVu Sans Mono',consolas,'Courier New',monospace\"><span style=\"font-weight: bold\"> Non-trainable params: </span><span style=\"color: #00af00; text-decoration-color: #00af00\">0</span> (0.00 B)\n",
              "</pre>\n"
            ]
          },
          "metadata": {}
        },
        {
          "output_type": "display_data",
          "data": {
            "text/plain": [
              "\u001b[1m Optimizer params: \u001b[0m\u001b[38;5;34m534,024\u001b[0m (2.04 MB)\n"
            ],
            "text/html": [
              "<pre style=\"white-space:pre;overflow-x:auto;line-height:normal;font-family:Menlo,'DejaVu Sans Mono',consolas,'Courier New',monospace\"><span style=\"font-weight: bold\"> Optimizer params: </span><span style=\"color: #00af00; text-decoration-color: #00af00\">534,024</span> (2.04 MB)\n",
              "</pre>\n"
            ]
          },
          "metadata": {}
        }
      ]
    },
    {
      "cell_type": "code",
      "execution_count": null,
      "metadata": {
        "colab": {
          "background_save": true
        },
        "id": "qwrDS6SMVZdH"
      },
      "outputs": [],
      "source": [
        "# model.save(\"PM_Prediction_CALSTM_model.h5\")\n",
        "model.save(\"2023CALSTM_DI_model.h5\")"
      ]
    },
    {
      "cell_type": "code",
      "execution_count": null,
      "metadata": {
        "colab": {
          "background_save": true
        },
        "id": "-dVfvOsWVZdH"
      },
      "outputs": [],
      "source": [
        "window_size = 3  # Number of input elements\n",
        "stride = 4  # Stride between windows\n",
        "output_size = 1  # Number of output elements\n",
        "\n",
        "# Calculate the number of windows\n",
        "num_windows = (test.shape[0] - window_size) // stride + 1\n",
        "num_windows"
      ]
    },
    {
      "cell_type": "code",
      "execution_count": null,
      "metadata": {
        "colab": {
          "background_save": true
        },
        "id": "4xN0-4skVZdH"
      },
      "outputs": [],
      "source": [
        "test.shape"
      ]
    },
    {
      "cell_type": "code",
      "execution_count": null,
      "metadata": {
        "colab": {
          "background_save": true
        },
        "id": "FMP8R-yFVZdH"
      },
      "outputs": [],
      "source": [
        "row_of_zeros = np.zeros((1, 3))\n",
        "test = np.concatenate([test, row_of_zeros], axis=0)\n",
        "test.shape"
      ]
    },
    {
      "cell_type": "code",
      "execution_count": null,
      "metadata": {
        "colab": {
          "background_save": true
        },
        "id": "UVlnW-THVZdH"
      },
      "outputs": [],
      "source": [
        "features = []\n",
        "labels = []\n",
        "\n",
        "# Generate the windows\n",
        "for i in range(num_windows):\n",
        "    start = i * stride\n",
        "    end = start + window_size\n",
        "    feature = test[start:end]\n",
        "    features.append(feature)\n",
        "    label = test[end]\n",
        "    labels.append(label)\n",
        "# Convert the list of windows to a NumPy array\n",
        "features = np.array(features)\n",
        "labels = np.array(labels)"
      ]
    },
    {
      "cell_type": "code",
      "execution_count": null,
      "metadata": {
        "colab": {
          "background_save": true
        },
        "id": "Pi1D9KLuVZdH"
      },
      "outputs": [],
      "source": [
        "predict_LSTM = model.predict(features)\n",
        "\n",
        "mae = np.mean(np.abs(labels - predict_LSTM))\n",
        "mse = np.mean((labels - predict_LSTM)**2)\n",
        "rmse = np.sqrt(np.mean((labels - predict_LSTM)**2))"
      ]
    },
    {
      "cell_type": "code",
      "execution_count": null,
      "metadata": {
        "colab": {
          "background_save": true
        },
        "id": "0akWhn_EVZdH"
      },
      "outputs": [],
      "source": [
        "print(\"MAE: \",mae)\n",
        "print(\"MSE: \",mse)\n",
        "print(\"RMSE: \",rmse)"
      ]
    },
    {
      "cell_type": "code",
      "execution_count": null,
      "metadata": {
        "colab": {
          "background_save": true
        },
        "id": "nAaWxtw3VZdH"
      },
      "outputs": [],
      "source": [
        "window_size = 3  # Number of input elements\n",
        "stride = 4  # Stride between windows\n",
        "output_size = 1  # Number of output elements\n",
        "\n",
        "# Calculate the number of windows\n",
        "num_windows = (pixel_combined.shape[0] - window_size) // stride + 1\n",
        "num_windows"
      ]
    },
    {
      "cell_type": "code",
      "execution_count": null,
      "metadata": {
        "colab": {
          "background_save": true
        },
        "id": "AtJFjwA_VZdI"
      },
      "outputs": [],
      "source": [
        "# Create an empty array to store the windows\n",
        "predict = []\n",
        "\n",
        "# Generate the windows\n",
        "for i in range(num_windows):\n",
        "    start = i * stride\n",
        "    end = start + window_size\n",
        "    predict.append(pixel_combined[start+1:end+1])\n",
        "\n",
        "# Convert the list of windows to a NumPy array\n",
        "predict = np.array(predict)"
      ]
    },
    {
      "cell_type": "code",
      "execution_count": null,
      "metadata": {
        "colab": {
          "background_save": true
        },
        "id": "TShzwH9rVZdI"
      },
      "outputs": [],
      "source": [
        "pm_2024 = model.predict(predict)"
      ]
    },
    {
      "cell_type": "code",
      "execution_count": null,
      "metadata": {
        "colab": {
          "background_save": true
        },
        "id": "xvmXfUWJVZdI"
      },
      "outputs": [],
      "source": [
        "image1.shape"
      ]
    },
    {
      "cell_type": "code",
      "execution_count": null,
      "metadata": {
        "colab": {
          "background_save": true
        },
        "id": "NyupTLzOVZdI"
      },
      "outputs": [],
      "source": [
        "image_shape = image1.shape\n",
        "restored_image = 0\n",
        "restored_image = np.reshape(pm_2024, image_shape)\n",
        "\n",
        "restored_image.shape\n",
        "restored_image *=255"
      ]
    },
    {
      "cell_type": "code",
      "execution_count": null,
      "metadata": {
        "colab": {
          "background_save": true
        },
        "id": "_O_NXnOyVZdI"
      },
      "outputs": [],
      "source": [
        "pil_image = Image.fromarray(np.uint8(restored_image))\n",
        "pil_image.save(\"2033DI_CALSTM(3).bmp\")\n",
        "pil_image.save(\"2033DI_CALSTM(3).tif\")\n",
        "\n",
        "pil_image"
      ]
    },
    {
      "cell_type": "code",
      "execution_count": null,
      "metadata": {
        "colab": {
          "background_save": true
        },
        "id": "j827UVGsVZdI"
      },
      "outputs": [],
      "source": [
        "pil_image.save(\"2023UHI_CALSTM.png\")"
      ]
    },
    {
      "cell_type": "code",
      "execution_count": null,
      "metadata": {
        "colab": {
          "background_save": true
        },
        "id": "mk9HPyvjVZdI"
      },
      "outputs": [],
      "source": [
        "# Main code\n",
        "import numpy as np\n",
        "import tensorflow as tf\n",
        "from PIL import Image\n",
        "\n",
        "# Load the images\n",
        "print(\"Loading images...\")\n",
        "\n",
        "image1 = Image.open(r\"/content/drive/MyDrive/2024_Work/1993-23_DI_Classify_final/1993_classify_final.bmp\")\n",
        "image2 = Image.open(r\"/content/drive/MyDrive/2024_Work/1993-23_DI_Classify_final/2003__DI_classify_final.bmp\")\n",
        "image3 = Image.open(r\"/content/drive/MyDrive/2024_Work/1993-23_DI_Classify_final/2013_DI_Classify_final.bmp\")\n",
        "#image4 = Image.open(r\"/content/drive/MyDrive/2024_Work/1993-23_DI_Classify_final/2023_DI_Classify_Final.bmp\")\n",
        "\n",
        "\n",
        "print(\"Images loaded.\")\n",
        "\n",
        "# Convert images to arrays and normalize\n",
        "print(\"Converting images to arrays and normalizing...\")\n",
        "image1 = np.array(image1).astype(np.float32) / 255\n",
        "image2 = np.array(image2).astype(np.float32) / 255\n",
        "image3 = np.array(image3).astype(np.float32) / 255\n",
        "# image4 = np.array(image4).astype(np.float32) / 255\n",
        "print(\"Images converted and normalized.\")\n",
        "\n",
        "# Combine the images\n",
        "print(\"Combining images...\")\n",
        "pixel_combined = []\n",
        "\n",
        "for y in range(image1.shape[0]):\n",
        "    for x in range(image1.shape[1]):\n",
        "        pixel_image1 = image1[y, x]\n",
        "        pixel_image2 = image2[y, x]\n",
        "        pixel_image3 = image3[y, x]\n",
        "        # pixel_image4 = image4[y, x]\n",
        "\n",
        "        pixel_combined.extend([pixel_image1, pixel_image2, pixel_image3])\n",
        "        # pixel_combined.extend([pixel_image1, pixel_image2, pixel_image3, pixel_image4])\n",
        "\n",
        "pixel_combined = np.array(pixel_combined)\n",
        "print(\"Images combined.\")\n",
        "\n",
        "# Use the entire data for training\n",
        "train = pixel_combined\n",
        "\n",
        "# Reshape the pixel_values_array into a rolling window with a stride of 3\n",
        "window_size = 2  # Number of input elements\n",
        "stride = 3  # Stride between windows\n",
        "\n",
        "# Calculate the number of windows\n",
        "num_windows = (train.shape[0] - window_size) // stride + 1\n",
        "\n",
        "# Create an empty array to store the windows\n",
        "print(\"Creating feature and label arrays...\")\n",
        "features = []\n",
        "labels = []\n",
        "\n",
        "for i in range(num_windows):\n",
        "    start = i * stride\n",
        "    end = start + window_size\n",
        "\n",
        "    if end < train.shape[0]:\n",
        "        feature = train[start:end]\n",
        "        label = train[end]\n",
        "        features.append(feature)\n",
        "        labels.append(label)\n",
        "    else:\n",
        "        break\n",
        "\n",
        "features = np.array(features)\n",
        "labels = np.array(labels)\n",
        "print(\"Feature and label arrays created.\")\n",
        "\n",
        "# Build the LSTM model\n",
        "print(\"Building the LSTM model...\")\n",
        "model = tf.keras.Sequential([\n",
        "    tf.keras.layers.LSTM(256, input_shape=(window_size, 3), return_sequences=False),\n",
        "    tf.keras.layers.Dense(3)\n",
        "])\n",
        "\n",
        "model.compile(optimizer='adam', loss='mse', metrics=['accuracy'])\n",
        "print(\"LSTM model built.\")\n",
        "\n",
        "\n"
      ]
    },
    {
      "cell_type": "code",
      "execution_count": null,
      "metadata": {
        "colab": {
          "background_save": true
        },
        "id": "BvHfsKlzVZdI"
      },
      "outputs": [],
      "source": [
        "# Train the LSTM model\n",
        "print(\"Training the LSTM model...\")\n",
        "model.fit(x=features, y=labels, epochs=15)\n",
        "print(\"LSTM model trained.\")\n",
        "\n",
        "# Predict using the trained model\n",
        "print(\"Predicting with the trained model...\")\n",
        "predict_LSTM = model.predict(features)\n",
        "print(\"Prediction completed.\")\n",
        "\n",
        "# Calculate metrics\n",
        "print(\"Calculating metrics...\")\n",
        "mae = np.mean(np.abs(labels - predict_LSTM))\n",
        "mse = np.mean((labels - predict_LSTM)**2)\n",
        "rmse = np.sqrt(mse)\n",
        "\n",
        "print(\"MAE: \", mae)\n",
        "print(\"MSE: \", mse)\n",
        "print(\"RMSE: \", rmse)\n",
        "\n",
        "# Generate predictions for the entire dataset\n",
        "print(\"Generating predictions for the entire dataset...\")\n",
        "predict = []\n",
        "\n",
        "for i in range(num_windows):\n",
        "    start = i * stride\n",
        "    end = start + window_size\n",
        "    predict.append(pixel_combined[start+1:end+1])\n",
        "\n",
        "predict = np.array(predict)\n",
        "pm_2024 = model.predict(predict)\n",
        "print(\"Predictions generated.\")\n",
        "\n",
        "# Reshape the predicted pixels to the original image shape\n",
        "print(\"Reshaping predicted pixels to the original image shape...\")\n",
        "image_shape = image1.shape\n",
        "restored_image = np.reshape(pm_2024, image_shape)\n",
        "restored_image *= 255\n",
        "\n",
        "# Save the restored image\n",
        "print(\"Saving the restored image...\")\n",
        "pil_image = Image.fromarray(np.uint8(restored_image))\n",
        "pil_image.save(\"2023DI_CALSTM.bmp\")\n",
        "pil_image.save(\"2023DI_CALSTM.tif\")\n",
        "print(\"Restored image saved.\")\n",
        "\n",
        "pil_image.show()"
      ]
    }
  ],
  "metadata": {
    "colab": {
      "provenance": [],
      "include_colab_link": true
    },
    "kernelspec": {
      "display_name": "Python 3 (ipykernel)",
      "language": "python",
      "name": "python3"
    },
    "language_info": {
      "codemirror_mode": {
        "name": "ipython",
        "version": 3
      },
      "file_extension": ".py",
      "mimetype": "text/x-python",
      "name": "python",
      "nbconvert_exporter": "python",
      "pygments_lexer": "ipython3",
      "version": "3.11.5"
    }
  },
  "nbformat": 4,
  "nbformat_minor": 0
}